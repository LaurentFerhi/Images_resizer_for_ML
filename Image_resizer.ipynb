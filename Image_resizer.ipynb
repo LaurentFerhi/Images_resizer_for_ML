{
 "cells": [
  {
   "cell_type": "markdown",
   "metadata": {},
   "source": [
    "# Image resizer"
   ]
  },
  {
   "cell_type": "code",
   "execution_count": 16,
   "metadata": {},
   "outputs": [],
   "source": [
    "import numpy as np \n",
    "\n",
    "import os\n",
    "from glob import glob\n",
    "import matplotlib.pyplot as plt\n",
    "%matplotlib inline\n",
    "import pickle as pk\n",
    "import time\n",
    "from random import randint\n",
    "\n",
    "from PIL import Image\n",
    "from skimage.io import imread, imsave\n",
    "from skimage.transform import resize\n",
    "\n",
    "from ipywidgets import IntProgress\n",
    "from IPython.display import display\n",
    "\n",
    "import warnings\n",
    "warnings.filterwarnings('always')\n",
    "warnings.filterwarnings('ignore')"
   ]
  },
  {
   "cell_type": "code",
   "execution_count": 17,
   "metadata": {},
   "outputs": [
    {
     "data": {
      "text/plain": [
       "array(['images\\\\Free', 'images\\\\Full'], dtype='<U11')"
      ]
     },
     "execution_count": 17,
     "metadata": {},
     "output_type": "execute_result"
    }
   ],
   "source": [
    "# Images must be in ~/image/label_x folder\n",
    "img_files = np.array(glob(\"images/*\"))\n",
    "img_files"
   ]
  },
  {
   "cell_type": "code",
   "execution_count": 18,
   "metadata": {},
   "outputs": [
    {
     "data": {
      "text/plain": [
       "{0: 'Free', 1: 'Full'}"
      ]
     },
     "execution_count": 18,
     "metadata": {},
     "output_type": "execute_result"
    }
   ],
   "source": [
    "target_dict = {i: img_files[i].replace('images\\\\','') for i in range(len(img_files))}\n",
    "target_dict"
   ]
  },
  {
   "cell_type": "markdown",
   "metadata": {},
   "source": [
    "## Image pre-processing"
   ]
  },
  {
   "cell_type": "code",
   "execution_count": 19,
   "metadata": {},
   "outputs": [],
   "source": [
    "# Define new image size\n",
    "size = (128, 128)"
   ]
  },
  {
   "cell_type": "code",
   "execution_count": 20,
   "metadata": {},
   "outputs": [],
   "source": [
    "# Load and resize image + store in array\n",
    "def load_images(folder):\n",
    "    images = []\n",
    "    target = []\n",
    "    \n",
    "    initial_path = os.path.abspath(os.getcwd())\n",
    "    \n",
    "    # Create new folder for resized images\n",
    "    os.mkdir('resized_images')\n",
    "    os.chdir(initial_path) # return to initial path\n",
    "    \n",
    "    for i in range(len(folder)):\n",
    "        \n",
    "        # Create new folder to save resized images\n",
    "        os.chdir(initial_path+\"\\\\resized_images\\\\\")\n",
    "        os.mkdir(folder[i].split('\\\\')[1])\n",
    "        os.chdir(initial_path) # return to initial path\n",
    "        \n",
    "        # print progress and number of files   \n",
    "        num_file = len(os.listdir(folder[i]))\n",
    "        print('label',str(i)+'/'+str(len(folder)-1)+' path:',folder[i], str(num_file)+\" files\")\n",
    "        \n",
    "        # Progress bar\n",
    "        max_count = num_file\n",
    "        f = IntProgress(min=0, max=max_count) # instantiate the bar\n",
    "        display(f) # display the bar\n",
    "           \n",
    "        # load and resize images from a folder\n",
    "        for filename in os.listdir(folder[i]):\n",
    "            f.value += 1\n",
    "            img = imread(os.path.join(folder[i], filename), as_gray=False)\n",
    "            if img is not None:\n",
    "                # resize image\n",
    "                img = resize(img, size, mode='reflect')\n",
    "                # convert to np array\n",
    "                img = np.asarray(img)\n",
    "                # append image list and target list\n",
    "                images.append(img)\n",
    "                target.append(i)\n",
    "                # save resized image\n",
    "                os.chdir(initial_path+\"\\\\resized_images\\\\\"+folder[i].split('\\\\')[1]) # go to specific folder\n",
    "                file_new_name = filename.split(\".jpg\")[0]+\"_size_\"+str(size[0])+\"x\"+str(size[1])+\".jpg\"\n",
    "                imsave(file_new_name, img)\n",
    "                os.chdir(initial_path) # return to initial path\n",
    "                               \n",
    "    return images, target"
   ]
  },
  {
   "cell_type": "code",
   "execution_count": null,
   "metadata": {
    "scrolled": false
   },
   "outputs": [
    {
     "name": "stdout",
     "output_type": "stream",
     "text": [
      "label 0/1 path: images\\Free 1067 files\n"
     ]
    },
    {
     "data": {
      "application/vnd.jupyter.widget-view+json": {
       "model_id": "d34de756630341608cd77b0a362cbb9d",
       "version_major": 2,
       "version_minor": 0
      },
      "text/plain": [
       "IntProgress(value=0, max=1067)"
      ]
     },
     "metadata": {},
     "output_type": "display_data"
    },
    {
     "name": "stdout",
     "output_type": "stream",
     "text": [
      "label 1/1 path: images\\Full 2195 files\n"
     ]
    },
    {
     "data": {
      "application/vnd.jupyter.widget-view+json": {
       "model_id": "7abb6e13f16d4061ad62e4024dfe1865",
       "version_major": 2,
       "version_minor": 0
      },
      "text/plain": [
       "IntProgress(value=0, max=2195)"
      ]
     },
     "metadata": {},
     "output_type": "display_data"
    }
   ],
   "source": [
    "X, y = load_images(img_files)"
   ]
  },
  {
   "cell_type": "code",
   "execution_count": null,
   "metadata": {},
   "outputs": [],
   "source": [
    "nb_images = sum([len(os.listdir(img_files[0])) for i in range(len(img_files))])\n",
    "random_image_idx = randint(0, nb_images-1)\n",
    "print(\"image\",random_image_idx)\n",
    "\n",
    "def display_example(images, id_img):\n",
    "    # display image that the CNN will see\n",
    "    plt.imshow(images[id_img]) \n",
    "    print('image dimension:',images[id_img].shape)\n",
    "    \n",
    "display_example(X, random_image_idx)"
   ]
  },
  {
   "cell_type": "code",
   "execution_count": null,
   "metadata": {},
   "outputs": [],
   "source": []
  }
 ],
 "metadata": {
  "kernelspec": {
   "display_name": "Python 3",
   "language": "python",
   "name": "python3"
  },
  "language_info": {
   "codemirror_mode": {
    "name": "ipython",
    "version": 3
   },
   "file_extension": ".py",
   "mimetype": "text/x-python",
   "name": "python",
   "nbconvert_exporter": "python",
   "pygments_lexer": "ipython3",
   "version": "3.7.1"
  }
 },
 "nbformat": 4,
 "nbformat_minor": 4
}
